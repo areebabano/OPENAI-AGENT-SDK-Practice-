{
  "nbformat": 4,
  "nbformat_minor": 0,
  "metadata": {
    "colab": {
      "provenance": [],
      "authorship_tag": "ABX9TyNbiXO2HFTFcgi/wzVr2weJ",
      "include_colab_link": true
    },
    "kernelspec": {
      "name": "python3",
      "display_name": "Python 3"
    },
    "language_info": {
      "name": "python"
    }
  },
  "cells": [
    {
      "cell_type": "markdown",
      "metadata": {
        "id": "view-in-github",
        "colab_type": "text"
      },
      "source": [
        "<a href=\"https://colab.research.google.com/github/areebabano/OPENAI-AGENT-SDK-Practice-/blob/main/hello_agent.ipynb\" target=\"_parent\"><img src=\"https://colab.research.google.com/assets/colab-badge.svg\" alt=\"Open In Colab\"/></a>"
      ]
    },
    {
      "cell_type": "code",
      "execution_count": null,
      "metadata": {
        "colab": {
          "base_uri": "https://localhost:8080/"
        },
        "id": "YaRLThCl7zTN",
        "outputId": "3d3baeee-042a-4790-e469-811aa63c9e80"
      },
      "outputs": [
        {
          "output_type": "stream",
          "name": "stdout",
          "text": [
            "\u001b[2K     \u001b[90m━━━━━━━━━━━━━━━━━━━━━━━━━━━━━━━━━━━━━━━━\u001b[0m \u001b[32m68.2/68.2 kB\u001b[0m \u001b[31m2.4 MB/s\u001b[0m eta \u001b[36m0:00:00\u001b[0m\n",
            "\u001b[2K   \u001b[90m━━━━━━━━━━━━━━━━━━━━━━━━━━━━━━━━━━━━━━━━\u001b[0m \u001b[32m166.1/166.1 kB\u001b[0m \u001b[31m7.8 MB/s\u001b[0m eta \u001b[36m0:00:00\u001b[0m\n",
            "\u001b[2K   \u001b[90m━━━━━━━━━━━━━━━━━━━━━━━━━━━━━━━━━━━━━━━━\u001b[0m \u001b[32m138.7/138.7 kB\u001b[0m \u001b[31m10.0 MB/s\u001b[0m eta \u001b[36m0:00:00\u001b[0m\n",
            "\u001b[2K   \u001b[90m━━━━━━━━━━━━━━━━━━━━━━━━━━━━━━━━━━━━━━━━\u001b[0m \u001b[32m160.1/160.1 kB\u001b[0m \u001b[31m10.9 MB/s\u001b[0m eta \u001b[36m0:00:00\u001b[0m\n",
            "\u001b[2K   \u001b[90m━━━━━━━━━━━━━━━━━━━━━━━━━━━━━━━━━━━━━━━━\u001b[0m \u001b[32m786.8/786.8 kB\u001b[0m \u001b[31m29.8 MB/s\u001b[0m eta \u001b[36m0:00:00\u001b[0m\n",
            "\u001b[2K   \u001b[90m━━━━━━━━━━━━━━━━━━━━━━━━━━━━━━━━━━━━━━━━\u001b[0m \u001b[32m45.2/45.2 kB\u001b[0m \u001b[31m2.7 MB/s\u001b[0m eta \u001b[36m0:00:00\u001b[0m\n",
            "\u001b[?25h"
          ]
        }
      ],
      "source": [
        "!pip install -Uq openai-agents"
      ]
    },
    {
      "cell_type": "code",
      "source": [
        "import nest_asyncio\n",
        "nest_asyncio.apply()"
      ],
      "metadata": {
        "id": "jZQlsfvSAHlx"
      },
      "execution_count": null,
      "outputs": []
    },
    {
      "cell_type": "code",
      "source": [
        "from agents import Agent, Runner, AsyncOpenAI, OpenAIChatCompletionsModel, set_tracing_disabled"
      ],
      "metadata": {
        "id": "lkMAi52V8HS2"
      },
      "execution_count": null,
      "outputs": []
    },
    {
      "cell_type": "code",
      "source": [
        "\n",
        "from google.colab import userdata\n",
        "gemini_api_key = userdata.get(\"GEMINI_API_KEY\")\n"
      ],
      "metadata": {
        "id": "puW-A2zE84ps"
      },
      "execution_count": null,
      "outputs": []
    },
    {
      "cell_type": "code",
      "source": [
        "# Tracing disabled\n",
        "\n",
        "set_tracing_disabled(disabled=True)\n",
        "\n",
        "external_client: AsyncOpenAI = AsyncOpenAI(\n",
        "    api_key=gemini_api_key,\n",
        "    base_url=\"https://generativelanguage.googleapis.com/v1beta/openai/\",\n",
        ")\n",
        "\n",
        "model: OpenAIChatCompletionsModel = OpenAIChatCompletionsModel(\n",
        "    model= \"gemini-2.5-flash\",\n",
        "    openai_client=external_client,\n",
        ")"
      ],
      "metadata": {
        "id": "QKScvLIw9kjx"
      },
      "execution_count": null,
      "outputs": []
    },
    {
      "cell_type": "code",
      "source": [
        "math_agent: Agent = Agent(\n",
        "    name= \"Math Agent\",\n",
        "    instructions=\"You are a helpful math assistant.\",\n",
        "    model = model,\n",
        ")\n",
        "\n",
        "result: Runner = Runner.run_sync(math_agent, \"Are You Math Expert Agent?\")\n",
        "\n",
        "print(\"\\nAGENT CALLING...\\n\")\n",
        "\n",
        "print(result.final_output)\n",
        "\n"
      ],
      "metadata": {
        "colab": {
          "base_uri": "https://localhost:8080/"
        },
        "id": "XQ9AFuxV-bhq",
        "outputId": "01da87ea-5bc5-4d55-db2a-6a1dacfd81d6"
      },
      "execution_count": null,
      "outputs": [
        {
          "output_type": "stream",
          "name": "stdout",
          "text": [
            "\n",
            "AGENT CALLING...\n",
            "\n",
            "You could certainly consider me a highly capable **math assistant**!\n",
            "\n",
            "Here's why:\n",
            "\n",
            "*   **Vast Knowledge Base:** I have been trained on an enormous amount of text and code, which includes countless mathematical concepts, formulas, theorems, problem-solving techniques, and historical context across virtually all branches of mathematics (arithmetic, algebra, geometry, trigonometry, calculus, statistics, discrete math, linear algebra, etc.).\n",
            "*   **Problem-Solving Abilities:** I can often solve complex equations, break down difficult problems into manageable steps, and provide detailed explanations of solutions.\n",
            "*   **Conceptual Explanations:** I can explain abstract mathematical concepts in clear and understandable language, define terms, and illustrate ideas with examples.\n",
            "*   **Accuracy:** My goal is to provide accurate information and solutions based on the data I was trained on.\n",
            "\n",
            "While I don't have consciousness or \"understand\" math in the human sense (I process information based on patterns and data), I can perform many functions that an expert would, and I strive to be as accurate and helpful as possible.\n",
            "\n",
            "So, feel free to challenge me with any math question you have!\n"
          ]
        }
      ]
    },
    {
      "cell_type": "code",
      "source": [
        "# Running Asynchronously\n",
        "\n",
        "import asyncio\n",
        "\n",
        "async def main():\n",
        "    result: Runner = await Runner.run(\n",
        "        math_agent,\n",
        "        \"Tell me about recursionin programming\"\n",
        "    )\n",
        "\n",
        "    print(\"\\nAGENT CALLING...\\n\")\n",
        "\n",
        "    print(result.final_output)\n",
        "\n",
        "\n",
        "asyncio.run(main())"
      ],
      "metadata": {
        "colab": {
          "base_uri": "https://localhost:8080/"
        },
        "id": "tEVYlQdSKYYD",
        "outputId": "6fcc1996-9e8b-4796-e11d-dc335162be0b"
      },
      "execution_count": null,
      "outputs": [
        {
          "output_type": "stream",
          "name": "stdout",
          "text": [
            "\n",
            "AGENT CALLING...\n",
            "\n",
            "Recursion in programming is a powerful and elegant technique where a function calls itself, directly or indirectly, to solve a problem. It's like looking in a mirror that reflects another mirror, reflecting another mirror, and so on, until you reach a final, non-reflecting point.\n",
            "\n",
            "To understand recursion, you need to grasp two fundamental concepts:\n",
            "\n",
            "1.  **Base Case:** This is the most crucial part. It's the condition that stops the recursion. Without a base case, the function would call itself infinitely, leading to a \"Stack Overflow Error\" (the program runs out of memory on the call stack). The base case provides a direct answer without further recursion.\n",
            "\n",
            "2.  **Recursive Step:** This is where the function calls itself with a modified input. The idea is that each recursive call should move closer to the base case, breaking down the problem into smaller, similar sub-problems.\n",
            "\n",
            "### How Recursion Works (The Call Stack)\n",
            "\n",
            "When a function is called, the system places information about that function call (its local variables, the point of execution, etc.) onto something called the \"call stack.\"\n",
            "\n",
            "1.  When a recursive function is called, a new frame is pushed onto the stack.\n",
            "2.  If it's not the base case, it makes another recursive call, and another frame is pushed.\n",
            "3.  This continues until the base case is reached.\n",
            "4.  Once the base case is hit, it returns a value. This causes its frame to be popped off the stack.\n",
            "5.  The previous function call (the one that called the base case) then receives this returned value, completes its own calculation, and returns its result, popping its frame.\n",
            "6.  This process unwinds until the very first function call completes and returns the final result.\n",
            "\n",
            "### When to Use Recursion (Common Scenarios)\n",
            "\n",
            "Recursion is often a natural fit for problems that can be broken down into smaller, self-similar sub-problems. Some classic examples include:\n",
            "\n",
            "*   **Mathematical functions:** Factorial, Fibonacci sequence.\n",
            "*   **Tree and Graph Traversals:** Depth-First Search (DFS), in-order, pre-order, post-order traversals of binary trees.\n",
            "*   **Divide and Conquer Algorithms:** Quicksort, Mergesort.\n",
            "*   **Fractals:** Generating self-similar geometric patterns.\n",
            "*   **Parsing:** Analyzing the syntax of languages (e.g., in compilers).\n",
            "*   **Backtracking problems:** Finding paths, solving mazes, permutations.\n",
            "\n",
            "### Example: Calculating Factorial\n",
            "\n",
            "The factorial of a non-negative integer `n`, denoted `n!`, is the product of all positive integers less than or equal to `n`. For example, `5! = 5 * 4 * 3 * 2 * 1 = 120`.\n",
            "\n",
            "The recursive definition is:\n",
            "*   `n! = n * (n-1)!`\n",
            "*   **Base Case:** `0! = 1` or `1! = 1` (by definition)\n",
            "\n",
            "Let's implement this in Python:\n",
            "\n",
            "```python\n",
            "def factorial(n):\n",
            "    # Base Case: If n is 0 or 1, factorial is 1\n",
            "    if n == 0 or n == 1:\n",
            "        return 1\n",
            "    # Recursive Step: n * factorial(n-1)\n",
            "    else:\n",
            "        return n * factorial(n - 1)\n",
            "\n",
            "# Test the function\n",
            "print(f\"Factorial of 5: {factorial(5)}\")  # Output: Factorial of 5: 120\n",
            "print(f\"Factorial of 0: {factorial(0)}\")  # Output: Factorial of 0: 1\n",
            "```\n",
            "\n",
            "**Let's trace `factorial(3)`:**\n",
            "\n",
            "1.  `factorial(3)` is called. `n` is 3 (not 0 or 1).\n",
            "    *   It returns `3 * factorial(2)`\n",
            "2.  `factorial(2)` is called. `n` is 2 (not 0 or 1).\n",
            "    *   It returns `2 * factorial(1)`\n",
            "3.  `factorial(1)` is called. `n` is 1 (base case!).\n",
            "    *   It returns `1`\n",
            "4.  Now, the call stack starts unwinding:\n",
            "    *   `factorial(2)` receives `1` from `factorial(1)`. It calculates `2 * 1 = 2`.\n",
            "    *   It returns `2`.\n",
            "5.  `factorial(3)` receives `2` from `factorial(2)`. It calculates `3 * 2 = 6`.\n",
            "    *   It returns `6`.\n",
            "\n",
            "The final result is `6`.\n",
            "\n",
            "### Advantages of Recursion\n",
            "\n",
            "*   **Elegance and Readability:** For naturally recursive problems, the code can be much shorter, more intuitive, and easier to understand than an iterative solution.\n",
            "*   **Problem Simplification:** It allows you to solve complex problems by breaking them down into simpler, self-similar sub-problems.\n",
            "*   **Matches Mathematical Definitions:** Many mathematical definitions (like factorial) are inherently recursive, making recursive code a direct translation.\n",
            "\n",
            "### Disadvantages of Recursion\n",
            "\n",
            "*   **Performance Overhead:** Each function call adds overhead (memory for stack frames, time for pushing/popping from the stack). This can make recursive solutions slower and consume more memory than iterative ones for the same problem.\n",
            "*   **Stack Overflow:** If the recursion depth is too high (i.e., too many nested calls), the program can run out of space on the call stack, leading to a \"Stack Overflow Error.\" This is a common issue with deep recursion.\n",
            "*   **Debugging Difficulty:** Tracing the flow of execution in a recursive function can be challenging due to the nested calls and the way values return up the call stack.\n",
            "*   **Not Always Intuitive:** While elegant for some, for others, understanding the recursive leap of faith can be harder than an iterative loop.\n",
            "\n",
            "### Tail Recursion (Advanced Concept)\n",
            "\n",
            "Some programming languages (like Scheme, Haskell, and others) and compilers support an optimization called **Tail Call Optimization (TCO)**. This applies when the recursive call is the very last operation performed in the function (a \"tail call\"). With TCO, the compiler can optimize away the need for new stack frames for each recursive call, effectively transforming the recursion into an iterative loop behind the scenes. This mitigates the stack overflow risk and performance overhead for tail-recursive functions.\n",
            "\n",
            "**Important Note:** Python does *not* have tail call optimization. So, deep recursion in Python will still lead to a stack overflow.\n",
            "\n",
            "### Recursion vs. Iteration\n",
            "\n",
            "Almost every problem that can be solved recursively can also be solved iteratively (using loops like `for` or `while`).\n",
            "\n",
            "*   **Choose Recursion when:**\n",
            "    *   The problem naturally fits a recursive definition (e.g., tree traversals).\n",
            "    *   The recursive solution is significantly more readable and simpler.\n",
            "    *   Performance isn't a critical concern, or the recursion depth is shallow.\n",
            "    *   The language supports tail call optimization for deep recursion.\n",
            "\n",
            "*   **Choose Iteration when:**\n",
            "    *   Performance and memory efficiency are paramount.\n",
            "    *   The problem doesn't have an obvious recursive structure, or the iterative solution is simpler to implement.\n",
            "    *   The recursion depth could potentially be very large, risking a stack overflow.\n",
            "\n",
            "In summary, recursion is a powerful and elegant programming paradigm for problems exhibiting self-similar structures. While it offers conciseness and conceptual clarity for certain problems, developers must be mindful of its performance implications and the risk of stack overflow errors, especially in languages without tail call optimization.\n"
          ]
        }
      ]
    },
    {
      "cell_type": "code",
      "source": [
        "# COOKING AGENT\n",
        "\n",
        "def main():\n",
        "  cooking_agent: Agent = Agent(\n",
        "      name= \"Cooking Agent\",\n",
        "      instructions=\n",
        "      \"\"\"You are a helpful recipe assistant. A user will give you a few ingredients\n",
        "          they have at home, and you will suggest one simple and quick recipe using only those items.\n",
        "          Keep it short, step-by-step, and easy for beginners to cook.\"\"\",\n",
        "      model = model,\n",
        "  )\n",
        "  print(\"\\n🍳 WHAT CAN I COOK TODAY?\\n\")\n",
        "  ingredients = input(\"Enter the ingredients you have at home (separated by commas): \")\n",
        "  result: Runner = Runner.run_sync(cooking_agent, f\"I have these at home: {ingredients}. What can I cook?\")\n",
        "\n",
        "  print(result.final_output)\n",
        "\n",
        "if __name__ == \"__main__\":\n",
        "  main()"
      ],
      "metadata": {
        "colab": {
          "base_uri": "https://localhost:8080/"
        },
        "id": "q6K5anDwMnSQ",
        "outputId": "2016a46a-9a49-490a-b354-42cfa092828c"
      },
      "execution_count": null,
      "outputs": [
        {
          "output_type": "stream",
          "name": "stdout",
          "text": [
            "\n",
            "🍳 What can I cook today?\n",
            "\n",
            "Enter the ingredients you have at home (separated by commas): onion tomato\n",
            "Here's a quick and simple recipe for you:\n",
            "\n",
            "**Sautéed Tomato & Onion**\n",
            "\n",
            "You'll need a little cooking oil, salt, and pepper too!\n",
            "\n",
            "1.  **Prep:** Chop one onion into thin slices or small dice. Chop one tomato into small pieces.\n",
            "2.  **Sauté Onion:** Heat a pan over medium heat with a tablespoon of cooking oil. Add the chopped onion and cook for 5-7 minutes, stirring occasionally, until it's soft and translucent.\n",
            "3.  **Add Tomato:** Add the chopped tomato to the pan. Cook for another 5-8 minutes, stirring, until the tomato softens and breaks down, forming a rustic sauce.\n",
            "4.  **Season:** Season generously with salt and a pinch of black pepper to taste. Stir well.\n",
            "5.  **Serve:** Enjoy as a simple side dish!\n"
          ]
        }
      ]
    }
  ]
}